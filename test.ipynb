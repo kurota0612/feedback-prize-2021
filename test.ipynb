{
  "nbformat": 4,
  "nbformat_minor": 0,
  "metadata": {
    "colab": {
      "name": "test.ipynb",
      "provenance": [],
      "mount_file_id": "https://github.com/kurota0612/feedback-prize-2021/blob/main/test.ipynb",
      "authorship_tag": "ABX9TyOqaXmSFNAI5MHpOqqUvzTL",
      "include_colab_link": true
    },
    "kernelspec": {
      "name": "python3",
      "display_name": "Python 3"
    },
    "language_info": {
      "name": "python"
    }
  },
  "cells": [
    {
      "cell_type": "markdown",
      "metadata": {
        "id": "view-in-github",
        "colab_type": "text"
      },
      "source": [
        "<a href=\"https://colab.research.google.com/github/kurota0612/feedback-prize-2021/blob/main/test.ipynb\" target=\"_parent\"><img src=\"https://colab.research.google.com/assets/colab-badge.svg\" alt=\"Open In Colab\"/></a>"
      ]
    },
    {
      "cell_type": "markdown",
      "source": [
        "##まずはEDA"
      ],
      "metadata": {
        "id": "9f7RuvXZe0fd"
      }
    },
    {
      "cell_type": "code",
      "execution_count": 1,
      "metadata": {
        "id": "QY9oiw72dfQ5"
      },
      "outputs": [],
      "source": [
        "import numpy as np\n",
        "import pandas as pd\n",
        "from glob import glob\n",
        "import matplotlib.pyplot as plt\n",
        "%matplotlib inline\n",
        "import matplotlib.style as style\n",
        "style.use(\"fivethirtyeight\")\n",
        "from matplotlib.ticker import FuncFormatter\n",
        "from nltk.corpus import stopwords\n",
        "from tqdm.notebook import tqdm\n",
        "import warnings\n",
        "warnings.filterwarnings(\"ignore\")\n",
        "import spacy\n",
        "from sklearn.feature_extraction.text import CountVectorizer\n",
        "import os"
      ]
    },
    {
      "cell_type": "code",
      "source": [
        "train = pd.read_csv(\"/content/drive/MyDrive/Kaggle/feedback-prize-2021/train.csv\")\n",
        "train[[\"discourse_id\", \"discourse_start\", \"discourse_end\"]] = train[[\"discourse_id\", \"discourse_start\", \"discourse_end\"]].astype(int)\n",
        "\n",
        "sample_submission = pd.read_csv(\"/content/drive/MyDrive/Kaggle/feedback-prize-2021/sample_submission.csv\")\n",
        "\n",
        "# globモジュール：Unixシェルのルールに従って指定されたパターンに一致するすべてのパスを見つける\n",
        "train_txt = glob(\"/content/drive/MyDrive/Kaggle/feedback-prize-2021/train/*.txt\")\n",
        "test_txt = glob(\"/content/drive/MyDrive/Kaggle/feedback-prize-2021/test/*.txt\")"
      ],
      "metadata": {
        "id": "ztSWVkPufvRS"
      },
      "execution_count": 2,
      "outputs": []
    },
    {
      "cell_type": "markdown",
      "source": [
        "### このコンペの概要\n",
        "\n",
        "基本的には12〜18歳くらいの子どもが書いた作文の中から7種の「discourse type」に分類される言葉の並びを探す、というもの\n",
        "\n",
        "1.   Lead - 統計、引用、説明など、読者の注意を引き、論文に向かわせる工夫で始まる導入部分\n",
        "2. Position - 主な質問に対する意見または結論\n",
        "3. Claim - その立場を支持する主張\n",
        "4. Counterclaim - 他のclaimに反論する、または立場に対して反対理由を与える主張。\n",
        "5. Rebuttal - counterclaimに反論する主張\n",
        "6. Evidence - claim、coutertclaim、またはrebuttalをサポートするアイデアや例。\n",
        "7. Conclusion Statement - claimを再表現する結論となる文章\n",
        "\n",
        "\n",
        "\n",
        "---\n",
        "\n",
        "適当な1文を見てみる\n",
        "\n",
        "[catコマンド](https://eng-entrance.com/linux_command_cat)\n",
        "\n",
        "\n"
      ],
      "metadata": {
        "id": "v9Dxe2oehrZd"
      }
    },
    {
      "cell_type": "code",
      "source": [
        "!cat /content/drive/MyDrive/Kaggle/feedback-prize-2021/train/423A1CA112E2.txt"
      ],
      "metadata": {
        "id": "CdDifs2Fhlt9",
        "outputId": "11598c5b-36bc-4a85-f81a-a10fdd59e562",
        "colab": {
          "base_uri": "https://localhost:8080/"
        }
      },
      "execution_count": 3,
      "outputs": [
        {
          "output_type": "stream",
          "name": "stdout",
          "text": [
            "Phones\n",
            "\n",
            "Modern humans today are always on their phone. They are always on their phone more than 5 hours a day no stop .All they do is text back and forward and just have group Chats on social media. They even do it while driving. They are some really bad consequences when stuff happens when it comes to a phone. Some certain areas in the United States ban phones from class rooms just because of it.\n",
            "\n",
            "When people have phones, they know about certain apps that they have .Apps like Facebook Twitter Instagram and Snapchat. So like if a friend moves away and you want to be in contact you can still be in contact by posting videos or text messages. People always have different ways how to communicate with a phone. Phones have changed due to our generation.\n",
            "\n",
            "Driving is one of the way how to get around. People always be on their phones while doing it. Which can cause serious Problems. That's why there's a thing that's called no texting while driving. That's a really important thing to remember. Some people still do it because they think It's stupid. No matter what they do they still have to obey it because that's the only way how did he save.\n",
            "\n",
            "Sometimes on the news there is either an accident or a suicide. It might involve someone not looking where they're going or tweet that someone sent. It either injury or death. If a mysterious number says I'm going to kill you and they know where you live but you don't know the person's contact\n",
            "\n",
            ",It makes you puzzled and make you start to freak out. Which can end up really badly.\n",
            "\n",
            "Phones are fine to use and it's also the best way to come over help. If you go through a problem and you can't find help you ,always have a phone there with you. Even though phones are used almost every day as long as you're safe it would come into use if you get into trouble. Make sure you do not be like this phone while you're in the middle of driving. The news always updated when people do something stupid around that involves their phones. The safest way is the best way to stay safe.    "
          ]
        }
      ]
    },
    {
      "cell_type": "markdown",
      "source": [
        "train datasetsには、上のエッセイ（ある学生が書いた1文）から抽出されたアノテーションが載っている"
      ],
      "metadata": {
        "id": "-9MSzOMGmVN0"
      }
    },
    {
      "cell_type": "code",
      "source": [
        "train.query(\"id == '423A1CA112E2'\")"
      ],
      "metadata": {
        "id": "9DcmoEqflCo-",
        "outputId": "f83aef0b-b8de-4485-c979-ee25ea3d1625",
        "colab": {
          "base_uri": "https://localhost:8080/",
          "height": 581
        }
      },
      "execution_count": 7,
      "outputs": [
        {
          "output_type": "execute_result",
          "data": {
            "text/html": [
              "\n",
              "  <div id=\"df-3d986ef9-dc7d-4424-aed3-e40ea74cf709\">\n",
              "    <div class=\"colab-df-container\">\n",
              "      <div>\n",
              "<style scoped>\n",
              "    .dataframe tbody tr th:only-of-type {\n",
              "        vertical-align: middle;\n",
              "    }\n",
              "\n",
              "    .dataframe tbody tr th {\n",
              "        vertical-align: top;\n",
              "    }\n",
              "\n",
              "    .dataframe thead th {\n",
              "        text-align: right;\n",
              "    }\n",
              "</style>\n",
              "<table border=\"1\" class=\"dataframe\">\n",
              "  <thead>\n",
              "    <tr style=\"text-align: right;\">\n",
              "      <th></th>\n",
              "      <th>id</th>\n",
              "      <th>discourse_id</th>\n",
              "      <th>discourse_start</th>\n",
              "      <th>discourse_end</th>\n",
              "      <th>discourse_text</th>\n",
              "      <th>discourse_type</th>\n",
              "      <th>discourse_type_num</th>\n",
              "      <th>predictionstring</th>\n",
              "    </tr>\n",
              "  </thead>\n",
              "  <tbody>\n",
              "    <tr>\n",
              "      <th>0</th>\n",
              "      <td>423A1CA112E2</td>\n",
              "      <td>1622627660524</td>\n",
              "      <td>8</td>\n",
              "      <td>229</td>\n",
              "      <td>Modern humans today are always on their phone....</td>\n",
              "      <td>Lead</td>\n",
              "      <td>Lead 1</td>\n",
              "      <td>1 2 3 4 5 6 7 8 9 10 11 12 13 14 15 16 17 18 1...</td>\n",
              "    </tr>\n",
              "    <tr>\n",
              "      <th>1</th>\n",
              "      <td>423A1CA112E2</td>\n",
              "      <td>1622627653021</td>\n",
              "      <td>230</td>\n",
              "      <td>312</td>\n",
              "      <td>They are some really bad consequences when stu...</td>\n",
              "      <td>Position</td>\n",
              "      <td>Position 1</td>\n",
              "      <td>45 46 47 48 49 50 51 52 53 54 55 56 57 58 59</td>\n",
              "    </tr>\n",
              "    <tr>\n",
              "      <th>2</th>\n",
              "      <td>423A1CA112E2</td>\n",
              "      <td>1622627671020</td>\n",
              "      <td>313</td>\n",
              "      <td>401</td>\n",
              "      <td>Some certain areas in the United States ban ph...</td>\n",
              "      <td>Evidence</td>\n",
              "      <td>Evidence 1</td>\n",
              "      <td>60 61 62 63 64 65 66 67 68 69 70 71 72 73 74 75</td>\n",
              "    </tr>\n",
              "    <tr>\n",
              "      <th>3</th>\n",
              "      <td>423A1CA112E2</td>\n",
              "      <td>1622627696365</td>\n",
              "      <td>402</td>\n",
              "      <td>758</td>\n",
              "      <td>When people have phones, they know about certa...</td>\n",
              "      <td>Evidence</td>\n",
              "      <td>Evidence 2</td>\n",
              "      <td>76 77 78 79 80 81 82 83 84 85 86 87 88 89 90 9...</td>\n",
              "    </tr>\n",
              "    <tr>\n",
              "      <th>4</th>\n",
              "      <td>423A1CA112E2</td>\n",
              "      <td>1622627759780</td>\n",
              "      <td>759</td>\n",
              "      <td>886</td>\n",
              "      <td>Driving is one of the way how to get around. P...</td>\n",
              "      <td>Claim</td>\n",
              "      <td>Claim 1</td>\n",
              "      <td>139 140 141 142 143 144 145 146 147 148 149 15...</td>\n",
              "    </tr>\n",
              "    <tr>\n",
              "      <th>5</th>\n",
              "      <td>423A1CA112E2</td>\n",
              "      <td>1622627780655</td>\n",
              "      <td>887</td>\n",
              "      <td>1150</td>\n",
              "      <td>That's why there's a thing that's called no te...</td>\n",
              "      <td>Evidence</td>\n",
              "      <td>Evidence 3</td>\n",
              "      <td>163 164 165 166 167 168 169 170 171 172 173 17...</td>\n",
              "    </tr>\n",
              "    <tr>\n",
              "      <th>6</th>\n",
              "      <td>423A1CA112E2</td>\n",
              "      <td>1622627811787</td>\n",
              "      <td>1151</td>\n",
              "      <td>1533</td>\n",
              "      <td>Sometimes on the news there is either an accid...</td>\n",
              "      <td>Evidence</td>\n",
              "      <td>Evidence 4</td>\n",
              "      <td>211 212 213 214 215 216 217 218 219 220 221 22...</td>\n",
              "    </tr>\n",
              "    <tr>\n",
              "      <th>7</th>\n",
              "      <td>423A1CA112E2</td>\n",
              "      <td>1622627585180</td>\n",
              "      <td>1534</td>\n",
              "      <td>1602</td>\n",
              "      <td>Phones are fine to use and it's also the best ...</td>\n",
              "      <td>Claim</td>\n",
              "      <td>Claim 2</td>\n",
              "      <td>282 283 284 285 286 287 288 289 290 291 292 29...</td>\n",
              "    </tr>\n",
              "    <tr>\n",
              "      <th>8</th>\n",
              "      <td>423A1CA112E2</td>\n",
              "      <td>1622627895668</td>\n",
              "      <td>1603</td>\n",
              "      <td>1890</td>\n",
              "      <td>If you go through a problem and you can't find...</td>\n",
              "      <td>Evidence</td>\n",
              "      <td>Evidence 5</td>\n",
              "      <td>297 298 299 300 301 302 303 304 305 306 307 30...</td>\n",
              "    </tr>\n",
              "    <tr>\n",
              "      <th>9</th>\n",
              "      <td>423A1CA112E2</td>\n",
              "      <td>1622627628524</td>\n",
              "      <td>1891</td>\n",
              "      <td>2027</td>\n",
              "      <td>The news always updated when people do somethi...</td>\n",
              "      <td>Concluding Statement</td>\n",
              "      <td>Concluding Statement 1</td>\n",
              "      <td>355 356 357 358 359 360 361 362 363 364 365 36...</td>\n",
              "    </tr>\n",
              "  </tbody>\n",
              "</table>\n",
              "</div>\n",
              "      <button class=\"colab-df-convert\" onclick=\"convertToInteractive('df-3d986ef9-dc7d-4424-aed3-e40ea74cf709')\"\n",
              "              title=\"Convert this dataframe to an interactive table.\"\n",
              "              style=\"display:none;\">\n",
              "        \n",
              "  <svg xmlns=\"http://www.w3.org/2000/svg\" height=\"24px\"viewBox=\"0 0 24 24\"\n",
              "       width=\"24px\">\n",
              "    <path d=\"M0 0h24v24H0V0z\" fill=\"none\"/>\n",
              "    <path d=\"M18.56 5.44l.94 2.06.94-2.06 2.06-.94-2.06-.94-.94-2.06-.94 2.06-2.06.94zm-11 1L8.5 8.5l.94-2.06 2.06-.94-2.06-.94L8.5 2.5l-.94 2.06-2.06.94zm10 10l.94 2.06.94-2.06 2.06-.94-2.06-.94-.94-2.06-.94 2.06-2.06.94z\"/><path d=\"M17.41 7.96l-1.37-1.37c-.4-.4-.92-.59-1.43-.59-.52 0-1.04.2-1.43.59L10.3 9.45l-7.72 7.72c-.78.78-.78 2.05 0 2.83L4 21.41c.39.39.9.59 1.41.59.51 0 1.02-.2 1.41-.59l7.78-7.78 2.81-2.81c.8-.78.8-2.07 0-2.86zM5.41 20L4 18.59l7.72-7.72 1.47 1.35L5.41 20z\"/>\n",
              "  </svg>\n",
              "      </button>\n",
              "      \n",
              "  <style>\n",
              "    .colab-df-container {\n",
              "      display:flex;\n",
              "      flex-wrap:wrap;\n",
              "      gap: 12px;\n",
              "    }\n",
              "\n",
              "    .colab-df-convert {\n",
              "      background-color: #E8F0FE;\n",
              "      border: none;\n",
              "      border-radius: 50%;\n",
              "      cursor: pointer;\n",
              "      display: none;\n",
              "      fill: #1967D2;\n",
              "      height: 32px;\n",
              "      padding: 0 0 0 0;\n",
              "      width: 32px;\n",
              "    }\n",
              "\n",
              "    .colab-df-convert:hover {\n",
              "      background-color: #E2EBFA;\n",
              "      box-shadow: 0px 1px 2px rgba(60, 64, 67, 0.3), 0px 1px 3px 1px rgba(60, 64, 67, 0.15);\n",
              "      fill: #174EA6;\n",
              "    }\n",
              "\n",
              "    [theme=dark] .colab-df-convert {\n",
              "      background-color: #3B4455;\n",
              "      fill: #D2E3FC;\n",
              "    }\n",
              "\n",
              "    [theme=dark] .colab-df-convert:hover {\n",
              "      background-color: #434B5C;\n",
              "      box-shadow: 0px 1px 3px 1px rgba(0, 0, 0, 0.15);\n",
              "      filter: drop-shadow(0px 1px 2px rgba(0, 0, 0, 0.3));\n",
              "      fill: #FFFFFF;\n",
              "    }\n",
              "  </style>\n",
              "\n",
              "      <script>\n",
              "        const buttonEl =\n",
              "          document.querySelector('#df-3d986ef9-dc7d-4424-aed3-e40ea74cf709 button.colab-df-convert');\n",
              "        buttonEl.style.display =\n",
              "          google.colab.kernel.accessAllowed ? 'block' : 'none';\n",
              "\n",
              "        async function convertToInteractive(key) {\n",
              "          const element = document.querySelector('#df-3d986ef9-dc7d-4424-aed3-e40ea74cf709');\n",
              "          const dataTable =\n",
              "            await google.colab.kernel.invokeFunction('convertToInteractive',\n",
              "                                                     [key], {});\n",
              "          if (!dataTable) return;\n",
              "\n",
              "          const docLinkHtml = 'Like what you see? Visit the ' +\n",
              "            '<a target=\"_blank\" href=https://colab.research.google.com/notebooks/data_table.ipynb>data table notebook</a>'\n",
              "            + ' to learn more about interactive tables.';\n",
              "          element.innerHTML = '';\n",
              "          dataTable['output_type'] = 'display_data';\n",
              "          await google.colab.output.renderOutput(dataTable, element);\n",
              "          const docLink = document.createElement('div');\n",
              "          docLink.innerHTML = docLinkHtml;\n",
              "          element.appendChild(docLink);\n",
              "        }\n",
              "      </script>\n",
              "    </div>\n",
              "  </div>\n",
              "  "
            ],
            "text/plain": [
              "             id  ...                                   predictionstring\n",
              "0  423A1CA112E2  ...  1 2 3 4 5 6 7 8 9 10 11 12 13 14 15 16 17 18 1...\n",
              "1  423A1CA112E2  ...       45 46 47 48 49 50 51 52 53 54 55 56 57 58 59\n",
              "2  423A1CA112E2  ...    60 61 62 63 64 65 66 67 68 69 70 71 72 73 74 75\n",
              "3  423A1CA112E2  ...  76 77 78 79 80 81 82 83 84 85 86 87 88 89 90 9...\n",
              "4  423A1CA112E2  ...  139 140 141 142 143 144 145 146 147 148 149 15...\n",
              "5  423A1CA112E2  ...  163 164 165 166 167 168 169 170 171 172 173 17...\n",
              "6  423A1CA112E2  ...  211 212 213 214 215 216 217 218 219 220 221 22...\n",
              "7  423A1CA112E2  ...  282 283 284 285 286 287 288 289 290 291 292 29...\n",
              "8  423A1CA112E2  ...  297 298 299 300 301 302 303 304 305 306 307 30...\n",
              "9  423A1CA112E2  ...  355 356 357 358 359 360 361 362 363 364 365 36...\n",
              "\n",
              "[10 rows x 8 columns]"
            ]
          },
          "metadata": {},
          "execution_count": 7
        }
      ]
    },
    {
      "cell_type": "markdown",
      "source": [
        "train datasetsには以下のカラムがある\n",
        "\n",
        "\n",
        "\n",
        "*   id - ID code for essay response\n",
        "*   discourse_id - ID code for discourse element\n",
        "*   discourse_start - character position where discourse element begins in the essay response\n",
        "*   discourse_end - character position where discourse element ends in the essay response\n",
        "*   discourse_text - text of discourse element\n",
        "*   discourse_type - classification of discourse element\n",
        "*   discourse_type_num - enumerated class label of discourse element\n",
        "*   predictionstring - the word indices of the training sample, as required for predictions\n",
        "\n",
        "ここでのGround Truthは、discourse typeとprediction stringの組み合わせである。predictionstringはエッセイの単語のインデックスに対応し、この単語の並びに対して予測されるdiscourse typeは正しいはずである。もし、正しいdiscourse typeが予測されたとしても、Ground Truthで指定されたものより長い、あるいは短い単語列であれば、部分一致となる可能性がある。\n",
        "\n",
        "このように、必ずしもエッセイのすべてのテキストがdiscourse typeに含まれるとは限らない。この場合、タイトルはどのdiscourseにも属さない。\n",
        "\n"
      ],
      "metadata": {
        "id": "r6gb56ofnxcu"
      }
    },
    {
      "cell_type": "markdown",
      "source": [
        "**discourse_textとpredictionstringの長さ**\n",
        "\n",
        "まず、discourse_textとpredictionstringが常に同じ単語数であるか（あるべき姿）を確認したいと思います。"
      ],
      "metadata": {
        "id": "wNqEYVpBo58A"
      }
    },
    {
      "cell_type": "code",
      "source": [
        "# カラムの追加\n",
        "train[\"discourse_len\"] = train[\"discourse_text\"].apply(lambda x: len(x.split()))\n",
        "train[\"pred_len\"] = train[\"predictionstring\"].apply(lambda x: len(x.split()))\n",
        "\n",
        "cols_to_display = ['discourse_id', 'discourse_text', 'discourse_type','predictionstring', 'discourse_len', 'pred_len']\n",
        "train[cols_to_display].head()"
      ],
      "metadata": {
        "id": "GJaVGPIrm_bO",
        "outputId": "3e2a6132-de6e-4dc2-ec57-45da000d6c7d",
        "colab": {
          "base_uri": "https://localhost:8080/",
          "height": 206
        }
      },
      "execution_count": 10,
      "outputs": [
        {
          "output_type": "execute_result",
          "data": {
            "text/html": [
              "\n",
              "  <div id=\"df-0b8a106f-6ae8-42bc-9ee6-dc55165f8144\">\n",
              "    <div class=\"colab-df-container\">\n",
              "      <div>\n",
              "<style scoped>\n",
              "    .dataframe tbody tr th:only-of-type {\n",
              "        vertical-align: middle;\n",
              "    }\n",
              "\n",
              "    .dataframe tbody tr th {\n",
              "        vertical-align: top;\n",
              "    }\n",
              "\n",
              "    .dataframe thead th {\n",
              "        text-align: right;\n",
              "    }\n",
              "</style>\n",
              "<table border=\"1\" class=\"dataframe\">\n",
              "  <thead>\n",
              "    <tr style=\"text-align: right;\">\n",
              "      <th></th>\n",
              "      <th>discourse_id</th>\n",
              "      <th>discourse_text</th>\n",
              "      <th>discourse_type</th>\n",
              "      <th>predictionstring</th>\n",
              "      <th>discourse_len</th>\n",
              "      <th>pred_len</th>\n",
              "    </tr>\n",
              "  </thead>\n",
              "  <tbody>\n",
              "    <tr>\n",
              "      <th>0</th>\n",
              "      <td>1622627660524</td>\n",
              "      <td>Modern humans today are always on their phone....</td>\n",
              "      <td>Lead</td>\n",
              "      <td>1 2 3 4 5 6 7 8 9 10 11 12 13 14 15 16 17 18 1...</td>\n",
              "      <td>44</td>\n",
              "      <td>44</td>\n",
              "    </tr>\n",
              "    <tr>\n",
              "      <th>1</th>\n",
              "      <td>1622627653021</td>\n",
              "      <td>They are some really bad consequences when stu...</td>\n",
              "      <td>Position</td>\n",
              "      <td>45 46 47 48 49 50 51 52 53 54 55 56 57 58 59</td>\n",
              "      <td>15</td>\n",
              "      <td>15</td>\n",
              "    </tr>\n",
              "    <tr>\n",
              "      <th>2</th>\n",
              "      <td>1622627671020</td>\n",
              "      <td>Some certain areas in the United States ban ph...</td>\n",
              "      <td>Evidence</td>\n",
              "      <td>60 61 62 63 64 65 66 67 68 69 70 71 72 73 74 75</td>\n",
              "      <td>16</td>\n",
              "      <td>16</td>\n",
              "    </tr>\n",
              "    <tr>\n",
              "      <th>3</th>\n",
              "      <td>1622627696365</td>\n",
              "      <td>When people have phones, they know about certa...</td>\n",
              "      <td>Evidence</td>\n",
              "      <td>76 77 78 79 80 81 82 83 84 85 86 87 88 89 90 9...</td>\n",
              "      <td>63</td>\n",
              "      <td>63</td>\n",
              "    </tr>\n",
              "    <tr>\n",
              "      <th>4</th>\n",
              "      <td>1622627759780</td>\n",
              "      <td>Driving is one of the way how to get around. P...</td>\n",
              "      <td>Claim</td>\n",
              "      <td>139 140 141 142 143 144 145 146 147 148 149 15...</td>\n",
              "      <td>24</td>\n",
              "      <td>24</td>\n",
              "    </tr>\n",
              "  </tbody>\n",
              "</table>\n",
              "</div>\n",
              "      <button class=\"colab-df-convert\" onclick=\"convertToInteractive('df-0b8a106f-6ae8-42bc-9ee6-dc55165f8144')\"\n",
              "              title=\"Convert this dataframe to an interactive table.\"\n",
              "              style=\"display:none;\">\n",
              "        \n",
              "  <svg xmlns=\"http://www.w3.org/2000/svg\" height=\"24px\"viewBox=\"0 0 24 24\"\n",
              "       width=\"24px\">\n",
              "    <path d=\"M0 0h24v24H0V0z\" fill=\"none\"/>\n",
              "    <path d=\"M18.56 5.44l.94 2.06.94-2.06 2.06-.94-2.06-.94-.94-2.06-.94 2.06-2.06.94zm-11 1L8.5 8.5l.94-2.06 2.06-.94-2.06-.94L8.5 2.5l-.94 2.06-2.06.94zm10 10l.94 2.06.94-2.06 2.06-.94-2.06-.94-.94-2.06-.94 2.06-2.06.94z\"/><path d=\"M17.41 7.96l-1.37-1.37c-.4-.4-.92-.59-1.43-.59-.52 0-1.04.2-1.43.59L10.3 9.45l-7.72 7.72c-.78.78-.78 2.05 0 2.83L4 21.41c.39.39.9.59 1.41.59.51 0 1.02-.2 1.41-.59l7.78-7.78 2.81-2.81c.8-.78.8-2.07 0-2.86zM5.41 20L4 18.59l7.72-7.72 1.47 1.35L5.41 20z\"/>\n",
              "  </svg>\n",
              "      </button>\n",
              "      \n",
              "  <style>\n",
              "    .colab-df-container {\n",
              "      display:flex;\n",
              "      flex-wrap:wrap;\n",
              "      gap: 12px;\n",
              "    }\n",
              "\n",
              "    .colab-df-convert {\n",
              "      background-color: #E8F0FE;\n",
              "      border: none;\n",
              "      border-radius: 50%;\n",
              "      cursor: pointer;\n",
              "      display: none;\n",
              "      fill: #1967D2;\n",
              "      height: 32px;\n",
              "      padding: 0 0 0 0;\n",
              "      width: 32px;\n",
              "    }\n",
              "\n",
              "    .colab-df-convert:hover {\n",
              "      background-color: #E2EBFA;\n",
              "      box-shadow: 0px 1px 2px rgba(60, 64, 67, 0.3), 0px 1px 3px 1px rgba(60, 64, 67, 0.15);\n",
              "      fill: #174EA6;\n",
              "    }\n",
              "\n",
              "    [theme=dark] .colab-df-convert {\n",
              "      background-color: #3B4455;\n",
              "      fill: #D2E3FC;\n",
              "    }\n",
              "\n",
              "    [theme=dark] .colab-df-convert:hover {\n",
              "      background-color: #434B5C;\n",
              "      box-shadow: 0px 1px 3px 1px rgba(0, 0, 0, 0.15);\n",
              "      filter: drop-shadow(0px 1px 2px rgba(0, 0, 0, 0.3));\n",
              "      fill: #FFFFFF;\n",
              "    }\n",
              "  </style>\n",
              "\n",
              "      <script>\n",
              "        const buttonEl =\n",
              "          document.querySelector('#df-0b8a106f-6ae8-42bc-9ee6-dc55165f8144 button.colab-df-convert');\n",
              "        buttonEl.style.display =\n",
              "          google.colab.kernel.accessAllowed ? 'block' : 'none';\n",
              "\n",
              "        async function convertToInteractive(key) {\n",
              "          const element = document.querySelector('#df-0b8a106f-6ae8-42bc-9ee6-dc55165f8144');\n",
              "          const dataTable =\n",
              "            await google.colab.kernel.invokeFunction('convertToInteractive',\n",
              "                                                     [key], {});\n",
              "          if (!dataTable) return;\n",
              "\n",
              "          const docLinkHtml = 'Like what you see? Visit the ' +\n",
              "            '<a target=\"_blank\" href=https://colab.research.google.com/notebooks/data_table.ipynb>data table notebook</a>'\n",
              "            + ' to learn more about interactive tables.';\n",
              "          element.innerHTML = '';\n",
              "          dataTable['output_type'] = 'display_data';\n",
              "          await google.colab.output.renderOutput(dataTable, element);\n",
              "          const docLink = document.createElement('div');\n",
              "          docLink.innerHTML = docLinkHtml;\n",
              "          element.appendChild(docLink);\n",
              "        }\n",
              "      </script>\n",
              "    </div>\n",
              "  </div>\n",
              "  "
            ],
            "text/plain": [
              "    discourse_id  ... pred_len\n",
              "0  1622627660524  ...       44\n",
              "1  1622627653021  ...       15\n",
              "2  1622627671020  ...       16\n",
              "3  1622627696365  ...       63\n",
              "4  1622627759780  ...       24\n",
              "\n",
              "[5 rows x 6 columns]"
            ]
          },
          "metadata": {},
          "execution_count": 10
        }
      ]
    },
    {
      "cell_type": "markdown",
      "source": [
        "一見合ってそうだが、実は1単語分間違ってるやつが468個ある"
      ],
      "metadata": {
        "id": "wB_Atr0yp_hK"
      }
    },
    {
      "cell_type": "code",
      "source": [
        "print(f\"The total number of discourses is {len(train)}\")\n",
        "train.query(\"discourse_len != pred_len\")[cols_to_display]"
      ],
      "metadata": {
        "id": "PqhqPA3GpvSv",
        "outputId": "0163e099-1ce8-4b6c-c1a4-475433bdbabb",
        "colab": {
          "base_uri": "https://localhost:8080/",
          "height": 485
        }
      },
      "execution_count": 11,
      "outputs": [
        {
          "output_type": "stream",
          "name": "stdout",
          "text": [
            "The total number of discourses is 144293\n"
          ]
        },
        {
          "output_type": "execute_result",
          "data": {
            "text/html": [
              "\n",
              "  <div id=\"df-2adc6b37-7a46-4ef7-a48e-903f7c709ae3\">\n",
              "    <div class=\"colab-df-container\">\n",
              "      <div>\n",
              "<style scoped>\n",
              "    .dataframe tbody tr th:only-of-type {\n",
              "        vertical-align: middle;\n",
              "    }\n",
              "\n",
              "    .dataframe tbody tr th {\n",
              "        vertical-align: top;\n",
              "    }\n",
              "\n",
              "    .dataframe thead th {\n",
              "        text-align: right;\n",
              "    }\n",
              "</style>\n",
              "<table border=\"1\" class=\"dataframe\">\n",
              "  <thead>\n",
              "    <tr style=\"text-align: right;\">\n",
              "      <th></th>\n",
              "      <th>discourse_id</th>\n",
              "      <th>discourse_text</th>\n",
              "      <th>discourse_type</th>\n",
              "      <th>predictionstring</th>\n",
              "      <th>discourse_len</th>\n",
              "      <th>pred_len</th>\n",
              "    </tr>\n",
              "  </thead>\n",
              "  <tbody>\n",
              "    <tr>\n",
              "      <th>107</th>\n",
              "      <td>1622473475289</td>\n",
              "      <td>if we would just make stricker laws for phone ...</td>\n",
              "      <td>Concluding Statement</td>\n",
              "      <td>303 304 305 306 307 308 309 310 311 312 313 31...</td>\n",
              "      <td>19</td>\n",
              "      <td>18</td>\n",
              "    </tr>\n",
              "    <tr>\n",
              "      <th>1025</th>\n",
              "      <td>1622564912260</td>\n",
              "      <td>for navigation to wherever they are going</td>\n",
              "      <td>Claim</td>\n",
              "      <td>105 106 107 108 109 110 111 112</td>\n",
              "      <td>7</td>\n",
              "      <td>8</td>\n",
              "    </tr>\n",
              "    <tr>\n",
              "      <th>1525</th>\n",
              "      <td>1622992466917</td>\n",
              "      <td>People should not be able to use cell phones w...</td>\n",
              "      <td>Position</td>\n",
              "      <td>22 23 24 25 26 27 28 29 30 31 32 33 34 35 36 3...</td>\n",
              "      <td>47</td>\n",
              "      <td>48</td>\n",
              "    </tr>\n",
              "    <tr>\n",
              "      <th>1526</th>\n",
              "      <td>1622992280991</td>\n",
              "      <td>First, cell phones are a benefit and allows ev...</td>\n",
              "      <td>Claim</td>\n",
              "      <td>69 70 71 72 73 74 75 76 77 78 79 80 81 82 83 8...</td>\n",
              "      <td>21</td>\n",
              "      <td>22</td>\n",
              "    </tr>\n",
              "    <tr>\n",
              "      <th>1527</th>\n",
              "      <td>1622992426147</td>\n",
              "      <td>Kids, teenagers, adults, even grandparents hav...</td>\n",
              "      <td>Evidence</td>\n",
              "      <td>90 91 92 93 94 95 96 97 98 99 100 101 102 103 ...</td>\n",
              "      <td>78</td>\n",
              "      <td>79</td>\n",
              "    </tr>\n",
              "    <tr>\n",
              "      <th>...</th>\n",
              "      <td>...</td>\n",
              "      <td>...</td>\n",
              "      <td>...</td>\n",
              "      <td>...</td>\n",
              "      <td>...</td>\n",
              "      <td>...</td>\n",
              "    </tr>\n",
              "    <tr>\n",
              "      <th>142607</th>\n",
              "      <td>1617826841342</td>\n",
              "      <td>seeking people's opinions on making a choice i...</td>\n",
              "      <td>Concluding Statement</td>\n",
              "      <td>563 564 565 566 567 568 569 570 571 572 573 57...</td>\n",
              "      <td>51</td>\n",
              "      <td>50</td>\n",
              "    </tr>\n",
              "    <tr>\n",
              "      <th>143191</th>\n",
              "      <td>1617887956153</td>\n",
              "      <td>i feel like for the bst advice ask more then o...</td>\n",
              "      <td>Evidence</td>\n",
              "      <td>185 186 187 188 189 190 191 192 193 194 195 19...</td>\n",
              "      <td>83</td>\n",
              "      <td>82</td>\n",
              "    </tr>\n",
              "    <tr>\n",
              "      <th>143227</th>\n",
              "      <td>1617652582742</td>\n",
              "      <td>, asking for advice from multiple people will ...</td>\n",
              "      <td>Concluding Statement</td>\n",
              "      <td>467 468 469 470 471 472 473 474 475 476 477 47...</td>\n",
              "      <td>84</td>\n",
              "      <td>83</td>\n",
              "    </tr>\n",
              "    <tr>\n",
              "      <th>143311</th>\n",
              "      <td>1618286838241</td>\n",
              "      <td>Seeking multiple opinions can help make a bett...</td>\n",
              "      <td>Claim</td>\n",
              "      <td>159 160 161 162 163 164 165 166 167 168 169 17...</td>\n",
              "      <td>15</td>\n",
              "      <td>16</td>\n",
              "    </tr>\n",
              "    <tr>\n",
              "      <th>143843</th>\n",
              "      <td>1617811065126</td>\n",
              "      <td>Asking for advice is a way of getting through ...</td>\n",
              "      <td>Claim</td>\n",
              "      <td>3 4 5 6 7 8 9 10 11 12 13 14 15 16 17 18 19 20...</td>\n",
              "      <td>21</td>\n",
              "      <td>22</td>\n",
              "    </tr>\n",
              "  </tbody>\n",
              "</table>\n",
              "<p>468 rows × 6 columns</p>\n",
              "</div>\n",
              "      <button class=\"colab-df-convert\" onclick=\"convertToInteractive('df-2adc6b37-7a46-4ef7-a48e-903f7c709ae3')\"\n",
              "              title=\"Convert this dataframe to an interactive table.\"\n",
              "              style=\"display:none;\">\n",
              "        \n",
              "  <svg xmlns=\"http://www.w3.org/2000/svg\" height=\"24px\"viewBox=\"0 0 24 24\"\n",
              "       width=\"24px\">\n",
              "    <path d=\"M0 0h24v24H0V0z\" fill=\"none\"/>\n",
              "    <path d=\"M18.56 5.44l.94 2.06.94-2.06 2.06-.94-2.06-.94-.94-2.06-.94 2.06-2.06.94zm-11 1L8.5 8.5l.94-2.06 2.06-.94-2.06-.94L8.5 2.5l-.94 2.06-2.06.94zm10 10l.94 2.06.94-2.06 2.06-.94-2.06-.94-.94-2.06-.94 2.06-2.06.94z\"/><path d=\"M17.41 7.96l-1.37-1.37c-.4-.4-.92-.59-1.43-.59-.52 0-1.04.2-1.43.59L10.3 9.45l-7.72 7.72c-.78.78-.78 2.05 0 2.83L4 21.41c.39.39.9.59 1.41.59.51 0 1.02-.2 1.41-.59l7.78-7.78 2.81-2.81c.8-.78.8-2.07 0-2.86zM5.41 20L4 18.59l7.72-7.72 1.47 1.35L5.41 20z\"/>\n",
              "  </svg>\n",
              "      </button>\n",
              "      \n",
              "  <style>\n",
              "    .colab-df-container {\n",
              "      display:flex;\n",
              "      flex-wrap:wrap;\n",
              "      gap: 12px;\n",
              "    }\n",
              "\n",
              "    .colab-df-convert {\n",
              "      background-color: #E8F0FE;\n",
              "      border: none;\n",
              "      border-radius: 50%;\n",
              "      cursor: pointer;\n",
              "      display: none;\n",
              "      fill: #1967D2;\n",
              "      height: 32px;\n",
              "      padding: 0 0 0 0;\n",
              "      width: 32px;\n",
              "    }\n",
              "\n",
              "    .colab-df-convert:hover {\n",
              "      background-color: #E2EBFA;\n",
              "      box-shadow: 0px 1px 2px rgba(60, 64, 67, 0.3), 0px 1px 3px 1px rgba(60, 64, 67, 0.15);\n",
              "      fill: #174EA6;\n",
              "    }\n",
              "\n",
              "    [theme=dark] .colab-df-convert {\n",
              "      background-color: #3B4455;\n",
              "      fill: #D2E3FC;\n",
              "    }\n",
              "\n",
              "    [theme=dark] .colab-df-convert:hover {\n",
              "      background-color: #434B5C;\n",
              "      box-shadow: 0px 1px 3px 1px rgba(0, 0, 0, 0.15);\n",
              "      filter: drop-shadow(0px 1px 2px rgba(0, 0, 0, 0.3));\n",
              "      fill: #FFFFFF;\n",
              "    }\n",
              "  </style>\n",
              "\n",
              "      <script>\n",
              "        const buttonEl =\n",
              "          document.querySelector('#df-2adc6b37-7a46-4ef7-a48e-903f7c709ae3 button.colab-df-convert');\n",
              "        buttonEl.style.display =\n",
              "          google.colab.kernel.accessAllowed ? 'block' : 'none';\n",
              "\n",
              "        async function convertToInteractive(key) {\n",
              "          const element = document.querySelector('#df-2adc6b37-7a46-4ef7-a48e-903f7c709ae3');\n",
              "          const dataTable =\n",
              "            await google.colab.kernel.invokeFunction('convertToInteractive',\n",
              "                                                     [key], {});\n",
              "          if (!dataTable) return;\n",
              "\n",
              "          const docLinkHtml = 'Like what you see? Visit the ' +\n",
              "            '<a target=\"_blank\" href=https://colab.research.google.com/notebooks/data_table.ipynb>data table notebook</a>'\n",
              "            + ' to learn more about interactive tables.';\n",
              "          element.innerHTML = '';\n",
              "          dataTable['output_type'] = 'display_data';\n",
              "          await google.colab.output.renderOutput(dataTable, element);\n",
              "          const docLink = document.createElement('div');\n",
              "          docLink.innerHTML = docLinkHtml;\n",
              "          element.appendChild(docLink);\n",
              "        }\n",
              "      </script>\n",
              "    </div>\n",
              "  </div>\n",
              "  "
            ],
            "text/plain": [
              "         discourse_id  ... pred_len\n",
              "107     1622473475289  ...       18\n",
              "1025    1622564912260  ...        8\n",
              "1525    1622992466917  ...       48\n",
              "1526    1622992280991  ...       22\n",
              "1527    1622992426147  ...       79\n",
              "...               ...  ...      ...\n",
              "142607  1617826841342  ...       50\n",
              "143191  1617887956153  ...       82\n",
              "143227  1617652582742  ...       83\n",
              "143311  1618286838241  ...       16\n",
              "143843  1617811065126  ...       22\n",
              "\n",
              "[468 rows x 6 columns]"
            ]
          },
          "metadata": {},
          "execution_count": 11
        }
      ]
    },
    {
      "cell_type": "markdown",
      "source": [
        "1個目を見てみる\n",
        "\n",
        "それぞれ本当に19個と18個になっている。ひとまず注意しておく"
      ],
      "metadata": {
        "id": "T-CioEVgq-TI"
      }
    },
    {
      "cell_type": "code",
      "source": [
        "print(train.query(\"discourse_id == 1622473475289\")[\"discourse_text\"].values[0])\n",
        "print(train.query(\"discourse_id == 1622473475289\")[\"discourse_text\"].values[0].split())\n",
        "print(len(train.query(\"discourse_id == 1622473475289\")[\"discourse_text\"].values[0].split()))"
      ],
      "metadata": {
        "id": "17_3zTHRqcRv",
        "outputId": "d354d986-4476-451b-b2bb-b54cf9a77e5c",
        "colab": {
          "base_uri": "https://localhost:8080/"
        }
      },
      "execution_count": 18,
      "outputs": [
        {
          "output_type": "stream",
          "name": "stdout",
          "text": [
            "if we would just make stricker laws for phone an driving the people would stop because of the consequences.      \n",
            "['if', 'we', 'would', 'just', 'make', 'stricker', 'laws', 'for', 'phone', 'an', 'driving', 'the', 'people', 'would', 'stop', 'because', 'of', 'the', 'consequences.']\n",
            "19\n"
          ]
        }
      ]
    },
    {
      "cell_type": "code",
      "source": [
        "print(train.query(\"discourse_id == 1622473475289\")[\"predictionstring\"].values[0])\n",
        "print(train.query(\"discourse_id == 1622473475289\")[\"predictionstring\"].values[0].split())\n",
        "print(len(train.query(\"discourse_id == 1622473475289\")[\"predictionstring\"].values[0].split()))"
      ],
      "metadata": {
        "id": "RUSNui6DrM2d",
        "outputId": "127e9835-35f7-40f1-ee5e-323763eba393",
        "colab": {
          "base_uri": "https://localhost:8080/"
        }
      },
      "execution_count": 19,
      "outputs": [
        {
          "output_type": "stream",
          "name": "stdout",
          "text": [
            "303 304 305 306 307 308 309 310 311 312 313 314 315 316 317 318 319 320\n",
            "['303', '304', '305', '306', '307', '308', '309', '310', '311', '312', '313', '314', '315', '316', '317', '318', '319', '320']\n",
            "18\n"
          ]
        }
      ]
    },
    {
      "cell_type": "markdown",
      "source": [
        "**discourse_typeごとの「文の長さ」と「出現頻度」の比較**\n",
        "\n",
        "discourseの長さとクラス（discourse_type）には相関があるのでしょうか？はい、あります。Evidenceは平均して最も長いディスコースタイプです。出現頻度を見ると、CounterclaimとRebuttalは比較的まれであることがわかります"
      ],
      "metadata": {
        "id": "A9PzG7CtsnD0"
      }
    },
    {
      "cell_type": "code",
      "source": [
        "fig = plt.figure(figsize=(12, 8))\n",
        "\n",
        "ax1 = fig.add_subplot(211)\n",
        "ax1 = train.groupby(\"discourse_type\")[\"discourse_len\"].mean().sort_values().plot(kind=\"barh\")\n",
        "ax1.set_title(\"Average number of words versus Discourse Type\", fontsize=14, fontweight=\"bold\")\n",
        "ax1.set_xlabel(\"Average number of words\", fontsize=10)\n",
        "ax1.set_ylabel(\"\")\n",
        "\n",
        "ax2 = fig.add_subplot(212)\n",
        "ax2 = train.groupby('discourse_type')['discourse_type'].count().sort_values().plot(kind=\"barh\")\n",
        "ax2.get_xaxis().set_major_formatter(FuncFormatter(lambda x, p: format(int(x), ','))) #add thousands separator\n",
        "ax2.set_title(\"Frequency of Discourse Type in all essays\", fontsize=14, fontweight = 'bold')\n",
        "ax2.set_xlabel(\"Frequency\", fontsize = 10)\n",
        "ax2.set_ylabel(\"\")\n",
        "\n",
        "plt.tight_layout(pad=2)\n",
        "plt.show()"
      ],
      "metadata": {
        "id": "c6zAi6uqsK8p",
        "outputId": "662dc884-7916-41ea-c3ae-16ab17caeb44",
        "colab": {
          "base_uri": "https://localhost:8080/",
          "height": 567
        }
      },
      "execution_count": 21,
      "outputs": [
        {
          "output_type": "display_data",
          "data": {
            "image/png": "[encoded data removed]",
            "text/plain": [
              "<Figure size 864x576 with 2 Axes>"
            ]
          },
          "metadata": {
            "needs_background": "light"
          }
        }
      ]
    },
    {
      "cell_type": "markdown",
      "source": [
        "discourse_type_numというフィールドがあります。Evidence1、Position1、Claim1 は、小論文の中でほとんど常に存在することがわかります。また、ほとんどの学生が少なくとも1つのConcluding Statementを持っています。驚くべきは、約40%の小論文でLeadが欠落していることです（Lead 1はほぼ60%の小論文に見られます）。\n",
        "\n",
        "このグラフでは、少なくとも3％の作文に含まれるdiscourse_type_numのみをプロットしています。"
      ],
      "metadata": {
        "id": "vLyAe84XvvCn"
      }
    },
    {
      "cell_type": "code",
      "source": [
        "fig = plt.figure(figsize=(12,8))\n",
        "av_per_essay = train['discourse_type_num'].value_counts(ascending = True).rename_axis('discourse_type_num').reset_index(name='count')\n",
        "av_per_essay['perc'] = round((av_per_essay['count'] / train.id.nunique()),3)\n",
        "av_per_essay = av_per_essay.set_index('discourse_type_num')\n",
        "ax = av_per_essay.query('perc > 0.03')['perc'].plot(kind=\"barh\")\n",
        "ax.set_title(\"discourse_type_num: Percent present in essays\", fontsize=20, fontweight = 'bold')\n",
        "ax.bar_label(ax.containers[0], label_type=\"edge\")\n",
        "ax.set_xlabel(\"Percent\")\n",
        "ax.set_ylabel(\"\")\n",
        "plt.show()"
      ],
      "metadata": {
        "id": "ymDBCLYevbmL",
        "outputId": "4386fd81-684d-485b-e6fa-597470a1d74f",
        "colab": {
          "base_uri": "https://localhost:8080/",
          "height": 723
        }
      },
      "execution_count": 24,
      "outputs": [
        {
          "output_type": "error",
          "ename": "AttributeError",
          "evalue": "ignored",
          "traceback": [
            "\u001b[0;31m---------------------------------------------------------------------------\u001b[0m",
            "\u001b[0;31mAttributeError\u001b[0m                            Traceback (most recent call last)",
            "\u001b[0;32m<ipython-input-24-d46520eae1ef>\u001b[0m in \u001b[0;36m<module>\u001b[0;34m()\u001b[0m\n\u001b[1;32m      5\u001b[0m \u001b[0max\u001b[0m \u001b[0;34m=\u001b[0m \u001b[0mav_per_essay\u001b[0m\u001b[0;34m.\u001b[0m\u001b[0mquery\u001b[0m\u001b[0;34m(\u001b[0m\u001b[0;34m'perc > 0.03'\u001b[0m\u001b[0;34m)\u001b[0m\u001b[0;34m[\u001b[0m\u001b[0;34m'perc'\u001b[0m\u001b[0;34m]\u001b[0m\u001b[0;34m.\u001b[0m\u001b[0mplot\u001b[0m\u001b[0;34m(\u001b[0m\u001b[0mkind\u001b[0m\u001b[0;34m=\u001b[0m\u001b[0;34m\"barh\"\u001b[0m\u001b[0;34m)\u001b[0m\u001b[0;34m\u001b[0m\u001b[0;34m\u001b[0m\u001b[0m\n\u001b[1;32m      6\u001b[0m \u001b[0max\u001b[0m\u001b[0;34m.\u001b[0m\u001b[0mset_title\u001b[0m\u001b[0;34m(\u001b[0m\u001b[0;34m\"discourse_type_num: Percent present in essays\"\u001b[0m\u001b[0;34m,\u001b[0m \u001b[0mfontsize\u001b[0m\u001b[0;34m=\u001b[0m\u001b[0;36m20\u001b[0m\u001b[0;34m,\u001b[0m \u001b[0mfontweight\u001b[0m \u001b[0;34m=\u001b[0m \u001b[0;34m'bold'\u001b[0m\u001b[0;34m)\u001b[0m\u001b[0;34m\u001b[0m\u001b[0;34m\u001b[0m\u001b[0m\n\u001b[0;32m----> 7\u001b[0;31m \u001b[0max\u001b[0m\u001b[0;34m.\u001b[0m\u001b[0mbar_label\u001b[0m\u001b[0;34m(\u001b[0m\u001b[0max\u001b[0m\u001b[0;34m.\u001b[0m\u001b[0mcontainers\u001b[0m\u001b[0;34m[\u001b[0m\u001b[0;36m0\u001b[0m\u001b[0;34m]\u001b[0m\u001b[0;34m,\u001b[0m \u001b[0mlabel_type\u001b[0m\u001b[0;34m=\u001b[0m\u001b[0;34m\"edge\"\u001b[0m\u001b[0;34m)\u001b[0m\u001b[0;34m\u001b[0m\u001b[0;34m\u001b[0m\u001b[0m\n\u001b[0m\u001b[1;32m      8\u001b[0m \u001b[0max\u001b[0m\u001b[0;34m.\u001b[0m\u001b[0mset_xlabel\u001b[0m\u001b[0;34m(\u001b[0m\u001b[0;34m\"Percent\"\u001b[0m\u001b[0;34m)\u001b[0m\u001b[0;34m\u001b[0m\u001b[0;34m\u001b[0m\u001b[0m\n\u001b[1;32m      9\u001b[0m \u001b[0max\u001b[0m\u001b[0;34m.\u001b[0m\u001b[0mset_ylabel\u001b[0m\u001b[0;34m(\u001b[0m\u001b[0;34m\"\"\u001b[0m\u001b[0;34m)\u001b[0m\u001b[0;34m\u001b[0m\u001b[0;34m\u001b[0m\u001b[0m\n",
            "\u001b[0;31mAttributeError\u001b[0m: 'AxesSubplot' object has no attribute 'bar_label'"
          ]
        },
        {
          "output_type": "display_data",
          "data": {
            "image/png": "[encoded data removed]",
            "text/plain": [
              "<Figure size 864x576 with 1 Axes>"
            ]
          },
          "metadata": {
            "needs_background": "light"
          }
        }
      ]
    },
    {
      "cell_type": "code",
      "source": [
        ""
      ],
      "metadata": {
        "id": "PnXZdutBxb6d"
      },
      "execution_count": null,
      "outputs": []
    }
  ]
}